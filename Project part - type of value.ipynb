{
 "cells": [
  {
   "cell_type": "code",
   "execution_count": 6,
   "metadata": {},
   "outputs": [
    {
     "name": "stdout",
     "output_type": "stream",
     "text": [
      "What value would you like to calculate? (Choose from concentration(c), number of moles (n), volume(v))d\n",
      "Please enter a valid option (c, n or v). What value would you like to calculate?i\n",
      "Please enter a valid option (c, n or v). What value would you like to calculate?n\n",
      "n function will go here\n"
     ]
    }
   ],
   "source": [
    "valueType = input('What value would you like to calculate? (Choose from concentration(c), number of moles (n), volume(v))')\n",
    "\n",
    "while valueType != 'n' and valueType != 'c' and valueType != 'v':\n",
    "    valueType = input('Please enter a valid option (c, n or v). What value would you like to calculate?')\n",
    "\n",
    "if valueType == 'c':\n",
    "    print('c function will go here')\n",
    "\n",
    "elif valueType == 'n':\n",
    "    print('n function will go here')\n",
    "\n",
    "elif valueType == 'v':\n",
    "    print('v function will go here')\n"
   ]
  },
  {
   "cell_type": "code",
   "execution_count": null,
   "metadata": {},
   "outputs": [],
   "source": [
    "\n",
    "    "
   ]
  }
 ],
 "metadata": {
  "kernelspec": {
   "display_name": "Python 3",
   "language": "python",
   "name": "python3"
  },
  "language_info": {
   "codemirror_mode": {
    "name": "ipython",
    "version": 3
   },
   "file_extension": ".py",
   "mimetype": "text/x-python",
   "name": "python",
   "nbconvert_exporter": "python",
   "pygments_lexer": "ipython3",
   "version": "3.8.3"
  }
 },
 "nbformat": 4,
 "nbformat_minor": 4
}
