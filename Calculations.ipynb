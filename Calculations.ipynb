{
 "cells": [
  {
   "cell_type": "code",
   "execution_count": 4,
   "metadata": {},
   "outputs": [],
   "source": [
    "def isinteger(value):\n",
    "    try:\n",
    "        int(value)\n",
    "    except ValueError:\n",
    "        return False\n",
    "    else:\n",
    "        return True\n",
    "    "
   ]
  },
  {
   "cell_type": "code",
   "execution_count": null,
   "metadata": {},
   "outputs": [],
   "source": [
    "\n",
    "def moles_1(gfm, mass) \n",
    "    '''gfm: gram formula mass of the substance in float\n",
    "    mass: the mass of the substance (grams) in float\n",
    "    result: number of moles of the substance in float'''\n",
    "    n = mass/gfm\n",
    "    return n"
   ]
  },
  {
   "cell_type": "code",
   "execution_count": null,
   "metadata": {},
   "outputs": [],
   "source": [
    "def mass(moles, gfm):  \n",
    "    '''moles: number of moles of the substance in float\n",
    "    gfm: the mass of the substance in float\n",
    "    result: mass of the substance (grams) in float '''\n",
    "    g = n*gfm\n",
    "    return g"
   ]
  },
  {
   "cell_type": "code",
   "execution_count": 76,
   "metadata": {},
   "outputs": [
    {
     "name": "stdout",
     "output_type": "stream",
     "text": [
      "Please enter the formula of your compound (e.g NaHCO3 (case sensitive)) C6760H10447N1743O2010S32\n",
      "149322.96240000002\n"
     ]
    }
   ],
   "source": [
    "def GFM():\n",
    "    \n",
    "    def found(le,RAM):\n",
    "        \n",
    "\n",
    "        try:\n",
    "            RAM[le]\n",
    "        except KeyError:\n",
    "\n",
    "            return False\n",
    "        else:\n",
    "\n",
    "            return True\n",
    "    \n",
    "    def lowerc(le):\n",
    "        if l == le.lower():\n",
    "            return True\n",
    "        else:\n",
    "            return False\n",
    "    \n",
    "    def isnull(Uinput):\n",
    "        try: \n",
    "            Uinput[0]\n",
    "        except IndexError:\n",
    "            return True\n",
    "        else:\n",
    "            return False\n",
    "        \n",
    "    RAM = {\"H\":1.00797, \"C\":12.011,\"N\":14.00667,\"O\":15.9994,\"Na\":22.98977,\"P\":30.97376,\"S\":32.06}\n",
    "    \n",
    "    Uinput = input(\"Please enter the formula of your compound (e.g NaHCO3 (case sensitive)) \")\n",
    "    valid = False\n",
    "    \n",
    "    \n",
    "    #validation loop(s)\n",
    "    while isnull(Uinput):\n",
    "        Uinput = input(\"Please enter the formula of your compound (e.g NaHCO3 (case sensitive)) \")\n",
    "    \n",
    "    \n",
    "    \n",
    "    while not valid:\n",
    "        \n",
    "        while len(Uinput) == 1 and not valid:\n",
    "            if not found(Uinput,RAM):\n",
    "                Uinput = input(\"Unknown atom found, please re-enter the formula of your compound (e.g NaHCO3 (case sensitive)) (1chr)\")\n",
    "                while isnull(Uinput):\n",
    "                    Uinput = input(\"Unknown atom found, please re-enter the formula of your compound (e.g NaHCO3 (case sensitive)) (1chr)\")\n",
    "            else:\n",
    "                valid = True\n",
    "\n",
    "        while len(Uinput) != 1 and not valid:\n",
    "        \n",
    "            \n",
    "\n",
    "            counter = 1\n",
    "            lastletter = Uinput[0]\n",
    "            for l in Uinput[1:(len(Uinput))]:\n",
    "                \n",
    "                \n",
    "                counter += 1\n",
    "\n",
    "\n",
    "                l2 = lastletter + l\n",
    "\n",
    "                #letter is \n",
    "                if not isinteger(l) and not found(l,RAM):\n",
    "\n",
    "                    if not found(l2,RAM) and lowerc(l):\n",
    "       \n",
    "                        Uinput = input(\"Unknown atom found, please re-enter the formula of your compound (e.g NaHCO3 (case sensitive)) \")\n",
    "                        while isnull(Uinput):\n",
    "                            Uinput = input(\"Unknown atom found, please re-enter the formula of your compound (e.g NaHCO3 (case sensitive))\")\n",
    "                        valid = False\n",
    "                        break\n",
    "                \n",
    "\n",
    "                if counter == len(Uinput):\n",
    "\n",
    "                    valid = True\n",
    "                else:\n",
    "                    lastletter = l\n",
    "                    \n",
    "            break\n",
    "    #end validation loops \n",
    "    \n",
    "   \n",
    "    GFM = 0\n",
    "    counter =0\n",
    "    AMass = []\n",
    "    for l in Uinput:\n",
    "\n",
    "        \n",
    "        if counter >=4:\n",
    "            l5 = l4 + l\n",
    "        if counter >=3:\n",
    "            l4 = l3 + l\n",
    "        if counter >= 2:\n",
    "            l3 = l2 + l\n",
    "        if counter >=1:\n",
    "            l2 = Uinput[counter-1] + l\n",
    "        \n",
    "        if counter >=1 and found(l2,RAM) and lowerc(l):\n",
    "            AMass[counter-1]=0\n",
    "            AMass.append(RAM[l2])\n",
    "            lastatom = RAM[l2]\n",
    "        elif isinteger(l):\n",
    "            if counter >=4 and isinteger(l5):\n",
    "                for i in range(counter-5,counter):\n",
    "                    AMass[i]=0\n",
    "                AMass.append(lastatom *(int(l5)))\n",
    "            elif counter >=3 and isinteger(l4):\n",
    "                for i in range(counter-4,counter):\n",
    "                    AMass[i]=0\n",
    "                AMass.append(lastatom *(int(l4)))\n",
    "            elif counter >=2 and isinteger(l3):\n",
    "                for i in range(counter-3,counter):\n",
    "                    AMass[i]=0\n",
    "                AMass.append(lastatom *(int(l3)))\n",
    "            elif isinteger(l2):\n",
    "                for i in range(counter-2,counter):\n",
    "                    AMass[i]=0\n",
    "                AMass.append(lastatom *(int(l2)))\n",
    "            else:\n",
    "                AMass[counter-1] = 0\n",
    "                AMass.append(lastatom *(int(l)))\n",
    "        else:\n",
    "            AMass.append(RAM[l])\n",
    "            lastatom = RAM[l]\n",
    "    \n",
    "        counter += 1\n",
    "    print(sum(AMass))\n",
    "\n",
    "            \n",
    "    \n",
    "    return\n",
    "                \n",
    "    \n",
    "GFM()"
   ]
  },
  {
   "cell_type": "code",
   "execution_count": 44,
   "metadata": {},
   "outputs": [],
   "source": [
    "def moles_2(conc, volume):       \n",
    "    '''conc: The concentration of the substance (moles per litre) in float\n",
    "    vol: the volume of the substance (litre) in float\n",
    "    result: The number of moles of the substance in float'''\n",
    "    n = conc*vol\n",
    "    return n"
   ]
  },
  {
   "cell_type": "code",
   "execution_count": null,
   "metadata": {},
   "outputs": [],
   "source": [
    "def conc(moles, volume):        \n",
    "    '''moles: the number of moles of the substance\n",
    "    volume: The volume of the substance (litre) in float\n",
    "    result: The concentration of the substance (moles per litre) in float'''\n",
    "    conc = moles/volume\n",
    "    return conc    "
   ]
  },
  {
   "cell_type": "code",
   "execution_count": null,
   "metadata": {},
   "outputs": [],
   "source": [
    "def volume(moles, conc):          \n",
    "    '''moles: the number of moles of the substance\n",
    "    conc: The concentration of the substance (moles per litre) in float\n",
    "    result: The volume of the substance (litres) in float'''\n",
    "    vol = moles/conc\n",
    "    return vol"
   ]
  },
  {
   "cell_type": "code",
   "execution_count": 3,
   "metadata": {},
   "outputs": [
    {
     "data": {
      "text/plain": [
       "True"
      ]
     },
     "execution_count": 3,
     "metadata": {},
     "output_type": "execute_result"
    }
   ],
   "source": []
  },
  {
   "cell_type": "code",
   "execution_count": 8,
   "metadata": {},
   "outputs": [
    {
     "ename": "IndexError",
     "evalue": "string index out of range",
     "output_type": "error",
     "traceback": [
      "\u001b[1;31m---------------------------------------------------------------------------\u001b[0m",
      "\u001b[1;31mIndexError\u001b[0m                                Traceback (most recent call last)",
      "\u001b[1;32m<ipython-input-8-771d35ff1e78>\u001b[0m in \u001b[0;36m<module>\u001b[1;34m\u001b[0m\n\u001b[1;32m----> 1\u001b[1;33m \u001b[1;32mfor\u001b[0m \u001b[0ml\u001b[0m \u001b[1;32min\u001b[0m \u001b[1;34m\"a\"\u001b[0m\u001b[1;33m[\u001b[0m\u001b[0mlen\u001b[0m\u001b[1;33m(\u001b[0m\u001b[1;34m\"a\"\u001b[0m\u001b[1;33m)\u001b[0m\u001b[1;33m]\u001b[0m\u001b[1;33m:\u001b[0m\u001b[1;33m\u001b[0m\u001b[1;33m\u001b[0m\u001b[0m\n\u001b[0m\u001b[0;32m      2\u001b[0m     \u001b[0mprint\u001b[0m\u001b[1;33m(\u001b[0m\u001b[0ml\u001b[0m\u001b[1;33m)\u001b[0m\u001b[1;33m\u001b[0m\u001b[1;33m\u001b[0m\u001b[0m\n",
      "\u001b[1;31mIndexError\u001b[0m: string index out of range"
     ]
    }
   ],
   "source": [
    "for l in \"a\"[len(\"a\")]:\n",
    "    print(l)"
   ]
  },
  {
   "cell_type": "code",
   "execution_count": 66,
   "metadata": {},
   "outputs": [
    {
     "ename": "TypeError",
     "evalue": "can only assign an iterable",
     "output_type": "error",
     "traceback": [
      "\u001b[1;31m---------------------------------------------------------------------------\u001b[0m",
      "\u001b[1;31mTypeError\u001b[0m                                 Traceback (most recent call last)",
      "\u001b[1;32m<ipython-input-66-25c6e28daa19>\u001b[0m in \u001b[0;36m<module>\u001b[1;34m\u001b[0m\n\u001b[0;32m      1\u001b[0m \u001b[0ma\u001b[0m \u001b[1;33m=\u001b[0m \u001b[1;33m[\u001b[0m\u001b[1;36m0\u001b[0m\u001b[1;33m,\u001b[0m\u001b[1;36m0\u001b[0m\u001b[1;33m,\u001b[0m\u001b[1;36m0\u001b[0m\u001b[1;33m,\u001b[0m\u001b[1;36m0\u001b[0m\u001b[1;33m]\u001b[0m\u001b[1;33m\u001b[0m\u001b[1;33m\u001b[0m\u001b[0m\n\u001b[1;32m----> 2\u001b[1;33m \u001b[0ma\u001b[0m\u001b[1;33m[\u001b[0m\u001b[1;36m0\u001b[0m\u001b[1;33m:\u001b[0m\u001b[1;36m4\u001b[0m\u001b[1;33m]\u001b[0m \u001b[1;33m=\u001b[0m \u001b[1;36m1\u001b[0m\u001b[1;33m\u001b[0m\u001b[1;33m\u001b[0m\u001b[0m\n\u001b[0m",
      "\u001b[1;31mTypeError\u001b[0m: can only assign an iterable"
     ]
    }
   ],
   "source": [
    "a = [0,0,0,0]\n",
    "a[0:4] = 1"
   ]
  },
  {
   "cell_type": "code",
   "execution_count": null,
   "metadata": {},
   "outputs": [],
   "source": []
  }
 ],
 "metadata": {
  "kernelspec": {
   "display_name": "Python 3",
   "language": "python",
   "name": "python3"
  },
  "language_info": {
   "codemirror_mode": {
    "name": "ipython",
    "version": 3
   },
   "file_extension": ".py",
   "mimetype": "text/x-python",
   "name": "python",
   "nbconvert_exporter": "python",
   "pygments_lexer": "ipython3",
   "version": "3.8.5"
  }
 },
 "nbformat": 4,
 "nbformat_minor": 4
}
