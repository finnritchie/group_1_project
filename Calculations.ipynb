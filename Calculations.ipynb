{
 "cells": [
  {
   "cell_type": "code",
   "execution_count": null,
   "metadata": {},
   "outputs": [],
   "source": [
    "def moles_1(gfm, mass) \n",
    "    '''gfm: gram formula mass of the substance in float\n",
    "    mass: the mass of the substance (grams) in float\n",
    "    result: number of moles of the substance in float'''\n",
    "    n = mass/gfm\n",
    "    return n"
   ]
  },
  {
   "cell_type": "code",
   "execution_count": null,
   "metadata": {},
   "outputs": [],
   "source": [
    "def mass(moles, gfm):  \n",
    "    '''moles: number of moles of the substance in float\n",
    "    gfm: the mass of the substance in float\n",
    "    result: mass of the substance (grams) in float '''\n",
    "    g = n*gfm\n",
    "    return g"
   ]
  },
  {
   "cell_type": "code",
   "execution_count": null,
   "metadata": {},
   "outputs": [],
   "source": [
    "def GFM(mass, moles):    \n",
    "    '''mass: the mass of the substance (grams), in float\n",
    "    moles: the number of moles of the substance, in float\n",
    "    result: the gram formula mass of the substance, in float'''\n",
    "    GFM = mass/moles\n",
    "    return GFM"
   ]
  },
  {
   "cell_type": "code",
   "execution_count": null,
   "metadata": {},
   "outputs": [],
   "source": [
    "def moles_2(conc, volume):       \n",
    "    '''conc: The concentration of the substance (moles per litre) in float\n",
    "    vol: the volume of the substance (litre) in float\n",
    "    result: The number of moles of the substance in float'''\n",
    "    n = conc*vol\n",
    "    return n"
   ]
  },
  {
   "cell_type": "code",
   "execution_count": null,
   "metadata": {},
   "outputs": [],
   "source": [
    "def conc(moles, volume):        \n",
    "    '''moles: the number of moles of the substance\n",
    "    volume: The volume of the substance (litre) in float\n",
    "    result: The concentration of the substance (moles per litre) in float'''\n",
    "    conc = moles/volume\n",
    "    return conc    "
   ]
  },
  {
   "cell_type": "code",
   "execution_count": null,
   "metadata": {},
   "outputs": [],
   "source": [
    "def volume(moles, conc):          \n",
    "    '''moles: the number of moles of the substance\n",
    "    conc: The concentration of the substance (moles per litre) in float\n",
    "    result: The volume of the substance (litres) in float'''\n",
    "    vol = moles/conc\n",
    "    return vol"
   ]
  },
  {
   "cell_type": "code",
   "execution_count": 3,
   "metadata": {},
   "outputs": [
    {
     "data": {
      "text/plain": [
       "True"
      ]
     },
     "execution_count": 3,
     "metadata": {},
     "output_type": "execute_result"
    }
   ],
   "source": [
    "def isinteger(value):\n",
    "    try:\n",
    "        int(value)\n",
    "    except ValueError:\n",
    "        return False\n",
    "    else:\n",
    "        return True"
   ]
  }
 ],
 "metadata": {
  "kernelspec": {
   "display_name": "Python 3",
   "language": "python",
   "name": "python3"
  },
  "language_info": {
   "codemirror_mode": {
    "name": "ipython",
    "version": 3
   },
   "file_extension": ".py",
   "mimetype": "text/x-python",
   "name": "python",
   "nbconvert_exporter": "python",
   "pygments_lexer": "ipython3",
   "version": "3.8.5"
  }
 },
 "nbformat": 4,
 "nbformat_minor": 4
}
